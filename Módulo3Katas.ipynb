{
 "cells": [
  {
   "cell_type": "markdown",
   "metadata": {},
   "source": [
    "# Alertas Asteroides"
   ]
  },
  {
   "cell_type": "code",
   "execution_count": 19,
   "metadata": {},
   "outputs": [
    {
     "name": "stdout",
     "output_type": "stream",
     "text": [
      "..Verificando Niveles de Peligro...\n",
      "¡Alerta! ¡Posible impacto de asteroide! ¡Se acerca a velocidades peligrosas!\n"
     ]
    }
   ],
   "source": [
    "#Alerta Asteroide 1\n",
    "print('..Verificando Niveles de Peligro...')\n",
    "asteroide = 49\n",
    "if asteroide > 25:\n",
    "    print('¡Alerta! ¡Posible impacto de asteroide! ¡Se acerca a velocidades peligrosas!')\n",
    "else:\n",
    "    print('¡No hay peligro, disfruta de tu día!:)')"
   ]
  },
  {
   "cell_type": "code",
   "execution_count": 20,
   "metadata": {},
   "outputs": [
    {
     "name": "stdout",
     "output_type": "stream",
     "text": [
      "Sin visibilidad o alcance\n"
     ]
    }
   ],
   "source": [
    "#Alerta Asteroide 2\n",
    "asteroide = 19\n",
    "if asteroide > 20:\n",
    "    print('¡Es hora de sacar el telescopio, ve al cielo!')\n",
    "elif asteroide == 20:\n",
    "    print('¡Es hora de sacar el telescopio, ve al cielo!')\n",
    "else:\n",
    "    print('Sin visibilidad o alcance')"
   ]
  },
  {
   "cell_type": "code",
   "execution_count": 21,
   "metadata": {},
   "outputs": [
    {
     "name": "stdout",
     "output_type": "stream",
     "text": [
      "¡Es hora de sacar el telescopio, ve al cielo!\n"
     ]
    }
   ],
   "source": [
    "#Alerta Asteroide 3\n",
    "velocidad_asteroide = 25\n",
    "tamano_asteroide = 40\n",
    "if velocidad_asteroide > 25 and tamano_asteroide > 25:\n",
    "    print('¡Alerta! ¡Posible impacto de asteroide! ¡Busqué Refugio de Inmediato!')\n",
    "elif velocidad_asteroide >= 20:\n",
    "    print('¡Es hora de sacar el telescopio, ve al cielo!')\n",
    "elif tamano_asteroide < 25:\n",
    "    print('Sin visibilidad o alcance :)')\n",
    "else:\n",
    "    print('Sin visibilidad o alcance :)')"
   ]
  }
 ],
 "metadata": {
  "interpreter": {
   "hash": "a4b57680f947797efd172336bdac56d314a4485b1aff1f63fff2a9a40c1a00cb"
  },
  "kernelspec": {
   "display_name": "Python 3.10.2 64-bit",
   "language": "python",
   "name": "python3"
  },
  "language_info": {
   "codemirror_mode": {
    "name": "ipython",
    "version": 3
   },
   "file_extension": ".py",
   "mimetype": "text/x-python",
   "name": "python",
   "nbconvert_exporter": "python",
   "pygments_lexer": "ipython3",
   "version": "3.10.2"
  },
  "orig_nbformat": 4
 },
 "nbformat": 4,
 "nbformat_minor": 2
}
