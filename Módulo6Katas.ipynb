{
 "cells": [
  {
   "cell_type": "markdown",
   "metadata": {},
   "source": [
    "# MISIÓN: P.L.A.N.E.T.A.S."
   ]
  },
  {
   "cell_type": "code",
   "execution_count": 4,
   "metadata": {},
   "outputs": [
    {
     "name": "stdout",
     "output_type": "stream",
     "text": [
      "El Primer planeta es Mercurio\n",
      "El Segundo planeta es Venus\n",
      "El Tercer planeta es Tierra\n",
      "El Cuarta planeta es Marte\n",
      "El Quinto planeta es Júpiter\n",
      "El Sexto planeta es Saturno\n",
      "El Séptimo planeta es Urano\n",
      "El Octova planeta es Neptuno\n",
      "El Noveno planeta es Plutón\n",
      "Júpier : Según la base de datos de KND es hogar de las \"Simios Arcoiris\"\n"
     ]
    }
   ],
   "source": [
    "#LISTA DE PLANETAS\n",
    "str = \"Planetas\";\n",
    "Planetas = ['Mercurio', 'Venus', 'Tierra', 'Marte', 'Júpiter', 'Saturno', 'Urano', 'Neptuno', 'Plutón']\n",
    "print('El Primer planeta es', Planetas[0])\n",
    "print('El Segundo planeta es', Planetas[1])\n",
    "print('El Tercer planeta es', Planetas[2])\n",
    "print('El Cuarta planeta es', Planetas[3])\n",
    "print('El Quinto planeta es', Planetas[4])\n",
    "print('El Sexto planeta es', Planetas[5])\n",
    "print('El Séptimo planeta es', Planetas[6])\n",
    "print('El Octova planeta es', Planetas[7])\n",
    "print('El Noveno planeta es', Planetas[8])\n",
    "Planetas.append('Júpier')\n",
    "print(Planetas[-1], ': Según la base de datos de KND es hogar de las \"Simios Arcoiris\"')"
   ]
  },
  {
   "cell_type": "code",
   "execution_count": 5,
   "metadata": {},
   "outputs": [
    {
     "name": "stdout",
     "output_type": "stream",
     "text": [
      "La base lunar de KND se ncuentra en el lado Obscuro de la Luna, se presume que Júpiter tiene en sus anillos \"Simios Arcoiris\" según la tecnología 2*4 el planeta tierra esta libre de peligro Tierra\n"
     ]
    }
   ],
   "source": [
    "print('La base lunar de KND se encuentra en el lado Obscuro de la Luna, se presume que Júpiter tiene en sus anillos \"Simios Arcoiris\" según la tecnología 2*4 el planeta tierra esta libre de peligro', Planetas[2])\n"
   ]
  }
 ],
 "metadata": {
  "interpreter": {
   "hash": "a4b57680f947797efd172336bdac56d314a4485b1aff1f63fff2a9a40c1a00cb"
  },
  "kernelspec": {
   "display_name": "Python 3.10.2 64-bit",
   "language": "python",
   "name": "python3"
  },
  "language_info": {
   "codemirror_mode": {
    "name": "ipython",
    "version": 3
   },
   "file_extension": ".py",
   "mimetype": "text/x-python",
   "name": "python",
   "nbconvert_exporter": "python",
   "pygments_lexer": "ipython3",
   "version": "3.10.2"
  },
  "orig_nbformat": 4
 },
 "nbformat": 4,
 "nbformat_minor": 2
}
