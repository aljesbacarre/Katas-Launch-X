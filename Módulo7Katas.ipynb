{
 "cells": [
  {
   "cell_type": "markdown",
   "metadata": {},
   "source": [
    "# MISIÓN: D.E.S.C.U.B.R.I.M.I.E.N.T.O."
   ]
  },
  {
   "cell_type": "code",
   "execution_count": 2,
   "metadata": {},
   "outputs": [
    {
     "name": "stdout",
     "output_type": "stream",
     "text": [
      "Escriba la bitacora de operaciones: \n",
      "El Primer planeta es Mercurio\n",
      "El Segundo planeta es Venus\n",
      "El Tercer planeta es Tierra\n",
      "El Cuarta planeta es Marte\n",
      "El Quinto planeta es Júpiter\n",
      "El Sexto planeta es Saturno\n",
      "El Séptimo planeta es Urano\n",
      "El Octova planeta es Neptuno\n",
      "El Noveno planeta es Plutón\n"
     ]
    }
   ],
   "source": [
    "print (\"Escriba la bitacora de operaciones: \")\n",
    "Planetas = ['Mercurio', 'Venus', 'Tierra', 'Marte', 'Júpiter', 'Saturno', 'Urano', 'Neptuno', 'Plutón']\n",
    "print('El Primer planeta es', Planetas[0])\n",
    "print('El Segundo planeta es', Planetas[1])\n",
    "print('El Tercer planeta es', Planetas[2])\n",
    "print('El Cuarta planeta es', Planetas[3])\n",
    "print('El Quinto planeta es', Planetas[4])\n",
    "print('El Sexto planeta es', Planetas[5])\n",
    "print('El Séptimo planeta es', Planetas[6])\n",
    "print('El Octova planeta es', Planetas[7])\n",
    "print('El Noveno planeta es', Planetas[8])"
   ]
  },
  {
   "cell_type": "code",
   "execution_count": 20,
   "metadata": {},
   "outputs": [
    {
     "name": "stdout",
     "output_type": "stream",
     "text": [
      "El nuevo planeta es:\n",
      "Eris\n"
     ]
    }
   ],
   "source": [
    "Nuevo_Planeta = 'Eris'\n",
    "Planetas = ['Mercurio', 'Venus', 'Tierra', 'Marte', 'Júpiter', 'Saturno', 'Urano', 'Neptuno', 'Plutón']\n",
    "Planetas.insert(len(Planetas), \"Eris\")\n",
    "Planetas.append(\"Eris\")\n",
    "print('El nuevo planeta es:')\n",
    "print(Nuevo_Planeta)"
   ]
  },
  {
   "cell_type": "code",
   "execution_count": 3,
   "metadata": {},
   "outputs": [
    {
     "name": "stdout",
     "output_type": "stream",
     "text": [
      "Fin de la Operación\n",
      "Accesando a la base de datos de KND\n",
      "Codename: Kids Next Door\n",
      "Code: NUEVO\n"
     ]
    }
   ],
   "source": [
    "#KND\n",
    "print(\"Fin de la Operación\")\n",
    "name = input(\"Introduzca el código de su nueva: \")\n",
    "print(\"Accesando a la base de datos de KND\")\n",
    "print(\"Codename: Kids Next Door\")\n",
    "print(\"Code: NUEVO\")"
   ]
  }
 ],
 "metadata": {
  "interpreter": {
   "hash": "a4b57680f947797efd172336bdac56d314a4485b1aff1f63fff2a9a40c1a00cb"
  },
  "kernelspec": {
   "display_name": "Python 3.10.2 64-bit",
   "language": "python",
   "name": "python3"
  },
  "language_info": {
   "codemirror_mode": {
    "name": "ipython",
    "version": 3
   },
   "file_extension": ".py",
   "mimetype": "text/x-python",
   "name": "python",
   "nbconvert_exporter": "python",
   "pygments_lexer": "ipython3",
   "version": "3.10.2"
  },
  "orig_nbformat": 4
 },
 "nbformat": 4,
 "nbformat_minor": 2
}
