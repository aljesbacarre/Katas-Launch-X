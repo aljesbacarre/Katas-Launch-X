{
 "cells": [
  {
   "cell_type": "markdown",
   "metadata": {},
   "source": []
  },
  {
   "cell_type": "markdown",
   "metadata": {},
   "source": [
    "# Funciones"
   ]
  },
  {
   "cell_type": "code",
   "execution_count": 31,
   "metadata": {},
   "outputs": [
    {
     "name": "stdout",
     "output_type": "stream",
     "text": [
      "Informe de combustible:\n",
      "    Promedio total: 91.66666666666667%\n",
      "    Tanque principal: 90%\n",
      "    Tanque externo: 90%\n",
      "    Tanque de hidrógeno: 95%\n",
      "    \n"
     ]
    }
   ],
   "source": [
    "def generar_informe(tanque_principal, tanque_externo, tanque_hidrógeno):\n",
    "    promedio_total = (tanque_principal + tanque_externo + tanque_hidrógeno) / 3\n",
    "    return f\"\"\"Informe de combustible:\n",
    "    Promedio total: {promedio_total}%\n",
    "    Tanque principal: {tanque_principal}%\n",
    "    Tanque externo: {tanque_externo}%\n",
    "    Tanque de hidrógeno: {tanque_hidrógeno}%\n",
    "    \"\"\"\n",
    "print(generar_informe (90, 90, 95))"
   ]
  },
  {
   "cell_type": "code",
   "execution_count": 30,
   "metadata": {},
   "outputs": [
    {
     "data": {
      "text/plain": [
       "88.66666666666667"
      ]
     },
     "execution_count": 30,
     "metadata": {},
     "output_type": "execute_result"
    }
   ],
   "source": [
    "def promedio (valores):\n",
    "    total = sum(valores)\n",
    "    número_de_elementos = len(valores)\n",
    "    return total / número_de_elementos\n",
    "promedio([80, 95, 91]) "
   ]
  },
  {
   "cell_type": "code",
   "execution_count": 29,
   "metadata": {},
   "outputs": [
    {
     "name": "stdout",
     "output_type": "stream",
     "text": [
      "Informe de combustible:\n",
      "    Promedio total: 84.66666666666667%\n",
      "    Tanque principal: 98%\n",
      "    Tanque externo: 96%\n",
      "    Tanque de hidrógeno: 60%\n",
      "    \n"
     ]
    }
   ],
   "source": [
    "def generar_informe(tanque_principal, tanque_externo, tanque_hidrógeno):\n",
    "    return f\"\"\"Informe de combustible:\n",
    "    Promedio total: {promedio ([tanque_principal, tanque_externo, tanque_hidrógeno])}%\n",
    "    Tanque principal: {tanque_principal}%\n",
    "    Tanque externo: {tanque_externo}%\n",
    "    Tanque de hidrógeno: {tanque_hidrógeno}%\n",
    "    \"\"\"\n",
    "print (generar_informe (98, 96, 60))"
   ]
  },
  {
   "cell_type": "code",
   "execution_count": 28,
   "metadata": {},
   "outputs": [
    {
     "name": "stdout",
     "output_type": "stream",
     "text": [
      "\n",
      "    Misión a Luna\n",
      "    Total de Tiempo de Viaje: 260 minutos\n",
      "    Total Combustible Restante:: 1200000 galones\n",
      "    \n"
     ]
    }
   ],
   "source": [
    "def Reporte_Misión(Tiempo_pre_lanzamiento, Tiempo_de_vuelo, Destino, tanque_externo, tanque_principal):\n",
    "    return f\"\"\"\n",
    "    Misión a {Destino}\n",
    "    Total de Tiempo de Viaje: {Tiempo_pre_lanzamiento + Tiempo_de_vuelo} minutos\n",
    "    Total Combustible Restante: {tanque_externo + tanque_principal} galones\n",
    "    \"\"\"\n",
    "\n",
    "print(Reporte_Misión(109, 151, \"Luna\", 900000, 300000))"
   ]
  },
  {
   "cell_type": "code",
   "execution_count": 36,
   "metadata": {},
   "outputs": [
    {
     "name": "stdout",
     "output_type": "stream",
     "text": [
      "\n",
      "    Misión a Luna\n",
      "    Total de Tiempo de Viaje: 376 minutos\n",
      "    Total Combustible Restante:: 1200000\n",
      "    \n"
     ]
    }
   ],
   "source": [
    "def Reporte_Misión(Destino, *minutes, **Reservas_de_Combustible):\n",
    "    return f\"\"\"\n",
    "    Misión a {Destino}\n",
    "    Total de Tiempo de Viaje: {sum(minutes)} minutos\n",
    "    Total Combustible Restante: {sum(Reservas_de_Combustible.values())}\n",
    "    \"\"\"\n",
    "\n",
    "print(Reporte_Misión(\"Luna\", 110, 115, 151, Principal=300000, Externo=900000))"
   ]
  },
  {
   "cell_type": "code",
   "execution_count": 56,
   "metadata": {},
   "outputs": [
    {
     "name": "stdout",
     "output_type": "stream",
     "text": [
      "\n",
      "    Misión a Luna\n",
      "    Total de Tiempo de Viaje: 84 minutos\n",
      "    Total Combustible Restante: 1200000\n",
      "    Principal <-->Tanque <--> 300000 galones Restantes\n",
      "Externo <-->Tanque <--> 900000 galones Restantes\n",
      "\n"
     ]
    }
   ],
   "source": [
    "def Reporte_Misión(Destino, *minutos, **Reservas_de_Combustible):\n",
    "    Reporte_Principal = f\"\"\"\n",
    "    Misión a {Destino}\n",
    "    Total de Tiempo de Viaje: {sum(minutos)} minutos\n",
    "    Total Combustible Restante: {sum(Reservas_de_Combustible.values())}\n",
    "    \"\"\"\n",
    "    for Nombre_del_Tanque, galones in Reservas_de_Combustible.items():\n",
    "        Reporte_Principal += f\"{Nombre_del_Tanque} <-->Tanque <--> {galones} galones Restantes\\n\"\n",
    "    return Reporte_Principal\n",
    "print(Reporte_Misión(\"Luna\", 18, 11, 55, Principal=300000, Externo=900000))"
   ]
  },
  {
   "cell_type": "code",
   "execution_count": 57,
   "metadata": {},
   "outputs": [
    {
     "name": "stdout",
     "output_type": "stream",
     "text": [
      "Fin de la Operación\n"
     ]
    }
   ],
   "source": [
    "#KND\n",
    "print(\"Fin de la Operación\")\n",
    "name = input(\"Introduzca el código de su nueva: \")\n",
    "print(\"Accesando a la base de datos de KND\")\n",
    "print(\"Codename: Kids Next Door\")\n",
    "print(\"Code: Alunizaje\")"
   ]
  }
 ],
 "metadata": {
  "interpreter": {
   "hash": "a4b57680f947797efd172336bdac56d314a4485b1aff1f63fff2a9a40c1a00cb"
  },
  "kernelspec": {
   "display_name": "Python 3.10.2 64-bit",
   "language": "python",
   "name": "python3"
  },
  "language_info": {
   "codemirror_mode": {
    "name": "ipython",
    "version": 3
   },
   "file_extension": ".py",
   "mimetype": "text/x-python",
   "name": "python",
   "nbconvert_exporter": "python",
   "pygments_lexer": "ipython3",
   "version": "3.10.2"
  },
  "orig_nbformat": 4
 },
 "nbformat": 4,
 "nbformat_minor": 2
}
