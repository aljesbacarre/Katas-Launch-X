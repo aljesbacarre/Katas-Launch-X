{
 "cells": [
  {
   "cell_type": "markdown",
   "metadata": {},
   "source": [
    "# Calculadora de Distancia entre Planetas"
   ]
  },
  {
   "cell_type": "code",
   "execution_count": 24,
   "metadata": {},
   "outputs": [
    {
     "name": "stdout",
     "output_type": "stream",
     "text": [
      "Distancia entre Planetas en Kilómetros\n",
      "628949330\n",
      "Distancia entre Planetas en Millas\n",
      "390577533.93\n"
     ]
    }
   ],
   "source": [
    "#Ejercicio1 - Utilizar operadores aritméticos\n",
    "#Variables\n",
    "Planeta_Tierra = 149597870\n",
    "Planeta_Júpiter= 778547200\n",
    "\n",
    "print('Distancia entre Planetas en Kilómetros')\n",
    "distance_km = Planeta_Júpiter - Planeta_Tierra\n",
    "print(distance_km)\n",
    "\n",
    "print('Distancia entre Planetas en Millas')\n",
    "distance_mi = distance_km * 0.621\n",
    "print(distance_mi)\n"
   ]
  },
  {
   "cell_type": "code",
   "execution_count": 1,
   "metadata": {},
   "outputs": [
    {
     "name": "stdout",
     "output_type": "stream",
     "text": [
      "Bienvenido a la Calculadora de Distancia al Sol \n"
     ]
    }
   ],
   "source": [
    "#Ejercicio 2: Convierte Cadenas en Números y Usa Valores Absolutos\n",
    "print(\"Bienvenido a la Calculadora de Distancia al Sol \")\n",
    "name = input(\"Introduzca su nombre de tripulante: \")\n",
    "print(\"Saludos: \" + name)"
   ]
  },
  {
   "cell_type": "code",
   "execution_count": 8,
   "metadata": {},
   "outputs": [
    {
     "data": {
      "text/plain": [
       "('| Planeta  | Distancia al sol |\\n',\n",
       " '| Mercurio | 57900000 |\\n',\n",
       " '| Venus| 108200000 |\\n',\n",
       " '| Tierra | 149600000|\\n',\n",
       " '| Marte | 227900000 |\\n',\n",
       " '| Júpiter | 778600000 |\\n',\n",
       " '| Saturno | 1433500000 |\\n',\n",
       " '| Urano | 2872500000 |\\n',\n",
       " '| Neptuno | 4495100000 |')"
      ]
     },
     "execution_count": 8,
     "metadata": {},
     "output_type": "execute_result"
    }
   ],
   "source": [
    "\"| Planeta  | Distancia al sol |\\n\",\"| Mercurio | 57900000 |\\n\",\"| Venus| 108200000 |\\n\",\"| Tierra | 149600000|\\n\",\"| Marte | 227900000 |\\n\",\"| Júpiter | 778600000 |\\n\",\"| Saturno | 1433500000 |\\n\",\"| Urano | 2872500000 |\\n\",\"| Neptuno | 4495100000 |\""
   ]
  },
  {
   "cell_type": "code",
   "execution_count": 1,
   "metadata": {},
   "outputs": [],
   "source": [
    "#Variables\n",
    "Planta_Mercurio = 57900000\n",
    "Planta_Venus = 108200000\n",
    "Planta_Tierra = 149600000\n",
    "Planta_Marte = 227900000\n",
    "Planta_Júpiter = 778600000\n",
    "Planta_Saturno = 1433500000\n",
    "Planta_Urano = 2872500000\n",
    "Planta_Neptuno = 4495100000\n",
    "Planeta_Tierra = input('Introduzca la distancia del sol para el Planeta Tierra en KM:')\n",
    "Planeta_Marte = input('Introduzca la distancia desde el sol para el Planeta Marte en KM:')\n",
    "Planeta_Tierra = int(Planeta_Tierra)\n",
    "Planeta_Marte = int(Planeta_Marte)\n",
    "distance_km = Planeta_Marte - Planeta_Tierra\n",
    "print(distance_km)\n",
    "# KM a Millas\n",
    "distance_mi = distance_km * 0.621\n",
    "print(abs(distance_mi))"
   ]
  }
 ],
 "metadata": {
  "interpreter": {
   "hash": "a4b57680f947797efd172336bdac56d314a4485b1aff1f63fff2a9a40c1a00cb"
  },
  "kernelspec": {
   "display_name": "Python 3.10.2 64-bit",
   "language": "python",
   "name": "python3"
  },
  "language_info": {
   "codemirror_mode": {
    "name": "ipython",
    "version": 3
   },
   "file_extension": ".py",
   "mimetype": "text/x-python",
   "name": "python",
   "nbconvert_exporter": "python",
   "pygments_lexer": "ipython3",
   "version": "3.10.2"
  },
  "orig_nbformat": 4
 },
 "nbformat": 4,
 "nbformat_minor": 2
}
