{
 "cells": [
  {
   "cell_type": "markdown",
   "metadata": {},
   "source": [
    "# Lunas y Planetas\n",
    "# MISIÓN: D.I.C.C.I.O.N.A.R.I.O."
   ]
  },
  {
   "cell_type": "code",
   "execution_count": 112,
   "metadata": {},
   "outputs": [
    {
     "name": "stdout",
     "output_type": "stream",
     "text": [
      "Tierra\n",
      "1\n",
      "Luna,Base \"Lunar KND\"\n"
     ]
    }
   ],
   "source": [
    "Planeta = {\n",
    "'Nombre': 'Tierra',\n",
    "'Lunas': 1 ,\n",
    "'Nombre Clave': 'Luna,Base \"Lunar KND\"'\n",
    "}\n",
    "print(Planeta.get('Nombre'))\n",
    "print(Planeta.get('Lunas'))\n",
    "print(Planeta.get('Nombre Clave'))"
   ]
  },
  {
   "cell_type": "code",
   "execution_count": 113,
   "metadata": {},
   "outputs": [
    {
     "name": "stdout",
     "output_type": "stream",
     "text": [
      "Mercurio tiene 0 Lunas su(s) nombre(s) es (son) Sin Datos\n",
      "Venus tiene 0 Lunas su(s) nombre(s) es (son) Sin Datos\n",
      "Tierra tiene 1 Lunas su(s) nombre(s) es (son) Luna,Base \"Lunar KND\"\n",
      "Marte tiene 2 Lunas su(s) nombre(s) es (son) Fobos y Deimos\n",
      "Júpiter tiene 79 Lunas su(s) nombre(s) es (son)  Europa, Ganimedes, Ío, Calisto, Valetudo, Carmé, Amaltea, MÁS\n",
      "Saturno tiene 82 Lunas su(s) nombre(s) es (son)  Titán, Encélado, Mimas, Tetis, Jápeto, Dione, Hiperión, Rea, MÁS\n",
      "Urano tiene 27 Lunas su(s) nombre(s) es (son) Titania, Ariel, Umbriel, Oberón, Miranda, Puck, Desdémona, MÁS\n",
      "Neptuno tiene 14 Lunas su(s) nombre(s) es (son) Tritón, Hipocampo, Proteo, Nereida, Talasa, Náyade, MÁS\n",
      "Plutón tiene 5 Lunas su(s) nombre(s) es (son) Caronte, Nix, Cerbero, Estigia, Hidra\n",
      "Haumea tiene 2 Lunas su(s) nombre(s) es (son) Hiʻiaka, Namaka\n",
      "Makemake tiene 2 Lunas su(s) nombre(s) es (son) S/2015(136472)1 o MK 2\n",
      "Eris tiene 2 Lunas su(s) nombre(s) es (son) Disnomia\n"
     ]
    }
   ],
   "source": [
    "#Creacción del Diccionario\n",
    "Planeta_Lunas = {\n",
    "'Mercurio': 0,\n",
    "'Venus': 0,\n",
    "'Tierra': 1,\n",
    "'Marte': 2,\n",
    "'Júpiter': 79,\n",
    "'Saturno': 82,\n",
    "'Urano': 27,\n",
    "'Neptuno': 14,\n",
    "'Plutón': 5,\n",
    "'Haumea': 2,\n",
    "'Makemake': 1,\n",
    "'Eris': 1\n",
    "}\n",
    "Planeta = {\n",
    "'Nombre': 'Mercurio',\n",
    "'Lunas': 0 ,\n",
    "'Nombre Clave': 'Sin Datos'\n",
    "}\n",
    "print(f'{Planeta[\"Nombre\"]} tiene {Planeta[\"Lunas\"]} Lunas su(s) nombre(s) es (son) {Planeta[\"Nombre Clave\"]}')\n",
    "\n",
    "Planeta = {\n",
    "'Nombre': 'Venus',\n",
    "'Lunas': 0 ,\n",
    "'Nombre Clave': 'Sin Datos'\n",
    "}\n",
    "print(f'{Planeta[\"Nombre\"]} tiene {Planeta[\"Lunas\"]} Lunas su(s) nombre(s) es (son) {Planeta[\"Nombre Clave\"]}')\n",
    "\n",
    "Planeta = {\n",
    "'Nombre': 'Tierra',\n",
    "'Lunas': 1 ,\n",
    "'Nombre Clave': 'Luna,Base \"Lunar KND\"'\n",
    "}\n",
    "print(f'{Planeta[\"Nombre\"]} tiene {Planeta[\"Lunas\"]} Lunas su(s) nombre(s) es (son) {Planeta[\"Nombre Clave\"]}')\n",
    "\n",
    "Planeta = {\n",
    "'Nombre': 'Marte',\n",
    "'Lunas': 2 ,\n",
    "'Nombre Clave': 'Fobos y Deimos'\n",
    "}\n",
    "print(f'{Planeta[\"Nombre\"]} tiene {Planeta[\"Lunas\"]} Lunas su(s) nombre(s) es (son) {Planeta[\"Nombre Clave\"]}')\n",
    "\n",
    "Planeta = {\n",
    "'Nombre': 'Júpiter',\n",
    "'Lunas': 79 ,\n",
    "'Nombre Clave': ' Europa, Ganimedes, Ío, Calisto, Valetudo, Carmé, Amaltea, MÁS'\n",
    "}\n",
    "print(f'{Planeta[\"Nombre\"]} tiene {Planeta[\"Lunas\"]} Lunas su(s) nombre(s) es (son) {Planeta[\"Nombre Clave\"]}')\n",
    "\n",
    "Planeta = {\n",
    "'Nombre': 'Saturno',\n",
    "'Lunas': 82 ,\n",
    "'Nombre Clave': ' Titán, Encélado, Mimas, Tetis, Jápeto, Dione, Hiperión, Rea, MÁS'\n",
    "}\n",
    "print(f'{Planeta[\"Nombre\"]} tiene {Planeta[\"Lunas\"]} Lunas su(s) nombre(s) es (son) {Planeta[\"Nombre Clave\"]}')\n",
    "\n",
    "Planeta = {\n",
    "'Nombre': 'Urano',\n",
    "'Lunas': 27 ,\n",
    "'Nombre Clave': 'Titania, Ariel, Umbriel, Oberón, Miranda, Puck, Desdémona, MÁS'\n",
    "}\n",
    "print(f'{Planeta[\"Nombre\"]} tiene {Planeta[\"Lunas\"]} Lunas su(s) nombre(s) es (son) {Planeta[\"Nombre Clave\"]}')\n",
    "\n",
    "Planeta = {\n",
    "'Nombre': 'Neptuno',\n",
    "'Lunas': 14 ,\n",
    "'Nombre Clave': 'Tritón, Hipocampo, Proteo, Nereida, Talasa, Náyade, MÁS'\n",
    "}\n",
    "print(f'{Planeta[\"Nombre\"]} tiene {Planeta[\"Lunas\"]} Lunas su(s) nombre(s) es (son) {Planeta[\"Nombre Clave\"]}')\n",
    "\n",
    "Planeta = {\n",
    "'Nombre': 'Plutón',\n",
    "'Lunas': 5 ,\n",
    "'Nombre Clave': 'Caronte, Nix, Cerbero, Estigia, Hidra'\n",
    "}\n",
    "print(f'{Planeta[\"Nombre\"]} tiene {Planeta[\"Lunas\"]} Lunas su(s) nombre(s) es (son) {Planeta[\"Nombre Clave\"]}')\n",
    "\n",
    "Planeta = {\n",
    "'Nombre': 'Haumea',\n",
    "'Lunas': 2 ,\n",
    "'Nombre Clave': 'Hiʻiaka, Namaka'\n",
    "}\n",
    "print(f'{Planeta[\"Nombre\"]} tiene {Planeta[\"Lunas\"]} Lunas su(s) nombre(s) es (son) {Planeta[\"Nombre Clave\"]}')\n",
    "\n",
    "Planeta = {\n",
    "'Nombre': 'Makemake',\n",
    "'Lunas': 2 ,\n",
    "'Nombre Clave': 'S/2015(136472)1 o MK 2'\n",
    "}\n",
    "print(f'{Planeta[\"Nombre\"]} tiene {Planeta[\"Lunas\"]} Lunas su(s) nombre(s) es (son) {Planeta[\"Nombre Clave\"]}')\n",
    "\n",
    "Planeta = {\n",
    "'Nombre': 'Eris',\n",
    "'Lunas': 2 ,\n",
    "'Nombre Clave': 'Disnomia'\n",
    "}\n",
    "print(f'{Planeta[\"Nombre\"]} tiene {Planeta[\"Lunas\"]} Lunas su(s) nombre(s) es (son) {Planeta[\"Nombre Clave\"]}')"
   ]
  },
  {
   "cell_type": "markdown",
   "metadata": {},
   "source": [
    "# Sobre Marte"
   ]
  },
  {
   "cell_type": "code",
   "execution_count": 114,
   "metadata": {},
   "outputs": [
    {
     "name": "stdout",
     "output_type": "stream",
     "text": [
      "Marte tiene 2 Lunas su(s) nombre(s) es (son) Fobos y Deimos\n",
      "Marte tiene una circunferencia de 6752 KM\n"
     ]
    }
   ],
   "source": [
    "Planeta2 = {\n",
    "'Nombre': 'Marte',\n",
    "'Lunas': 2 ,\n",
    "'Nombre Clave': 'Fobos y Deimos'\n",
    "}\n",
    "print(f'{Planeta2 [\"Nombre\"]} tiene {Planeta2[\"Lunas\"]} Lunas su(s) nombre(s) es (son) {Planeta2[\"Nombre Clave\"]}')\n",
    "Planeta2['circunferencia (km)'] = {\n",
    "'Polar': 6752,\n",
    "'Ecuatorial': 6792\n",
    "}\n",
    "print(f'{Planeta2[\"Nombre\"]} tiene una circunferencia de {Planeta2[\"circunferencia (km)\"][\"Polar\"]} KM')"
   ]
  },
  {
   "cell_type": "code",
   "execution_count": 115,
   "metadata": {},
   "outputs": [
    {
     "name": "stdout",
     "output_type": "stream",
     "text": [
      "Mercurio: 0 Satélites Naturales\n",
      "Venus: 0 Satélites Naturales\n",
      "Tierra: 1 Satélites Naturales\n",
      "Marte: 2 Satélites Naturales\n",
      "Júpiter: 79 Satélites Naturales\n",
      "Saturno: 82 Satélites Naturales\n",
      "Urano: 27 Satélites Naturales\n",
      "Neptuno: 14 Satélites Naturales\n",
      "Plutón: 5 Satélites Naturales\n",
      "Haumea: 2 Satélites Naturales\n",
      "Makemake: 1 Satélites Naturales\n",
      "Eris: 1 Satélites Naturales\n",
      "El promedio de Satélites Naturales es:\n",
      "26.25\n"
     ]
    }
   ],
   "source": [
    "Planeta_Lunas = {\n",
    "'Mercurio': 0,\n",
    "'Venus': 0,\n",
    "'Tierra': 1,\n",
    "'Marte': 2,\n",
    "'Júpiter': 79,\n",
    "'Saturno': 82,\n",
    "'Urano': 27,\n",
    "'Neptuno': 14,\n",
    "'Plutón': 5,\n",
    "'Haumea': 2,\n",
    "'Makemake': 1,\n",
    "'Eris': 1\n",
    "}\n",
    "for key in Planeta_Lunas.keys():\n",
    " print(f'{key}: {Planeta_Lunas[key]} Satélites Naturales')\n",
    "\n",
    "\n",
    "Planeta_Lunas = {0,0,1,2,79,82,27,14,5,2,1,1}\n",
    "mean = sum(Planeta_Lunas)/len(Planeta_Lunas)\n",
    "print('El promedio de Satélites Naturales es:')\n",
    "print(mean)"
   ]
  },
  {
   "cell_type": "code",
   "execution_count": 116,
   "metadata": {},
   "outputs": [
    {
     "name": "stdout",
     "output_type": "stream",
     "text": [
      "Fin de la Operación\n"
     ]
    }
   ],
   "source": [
    "#KND\n",
    "print(\"Fin de la Operación\")\n",
    "name = input(\"Introduzca el código de su nueva: \")\n",
    "print(\"Accesando a la base de datos de KND\")\n",
    "print(\"Codename: Kids Next Door\")\n",
    "print(\"Code: SÁTELITE\")"
   ]
  }
 ],
 "metadata": {
  "interpreter": {
   "hash": "a4b57680f947797efd172336bdac56d314a4485b1aff1f63fff2a9a40c1a00cb"
  },
  "kernelspec": {
   "display_name": "Python 3.10.2 64-bit",
   "language": "python",
   "name": "python3"
  },
  "language_info": {
   "codemirror_mode": {
    "name": "ipython",
    "version": 3
   },
   "file_extension": ".py",
   "mimetype": "text/x-python",
   "name": "python",
   "nbconvert_exporter": "python",
   "pygments_lexer": "ipython3",
   "version": "3.10.2"
  },
  "orig_nbformat": 4
 },
 "nbformat": 4,
 "nbformat_minor": 2
}
