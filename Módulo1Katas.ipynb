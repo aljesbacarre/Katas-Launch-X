{
 "cells": [
  {
   "cell_type": "markdown",
   "metadata": {},
   "source": [
    "# Bitácora"
   ]
  },
  {
   "cell_type": "code",
   "execution_count": null,
   "metadata": {},
   "outputs": [
    {
     "name": "stdout",
     "output_type": "stream",
     "text": [
      "Monday\n",
      "Today's date is: 2022-02-07\n"
     ]
    }
   ],
   "source": [
    "from datetime import date\n",
    "import calendar\n",
    "curr_date = date.today()\n",
    "print(calendar.day_name[curr_date.weekday()])\n",
    "from datetime import date\n",
    "print(\"Today's date is: \" + str(date.today()))\n"
   ]
  },
  {
   "cell_type": "markdown",
   "metadata": {},
   "source": [
    "# Convertidor de Unidades : Parsecs y Años Luz"
   ]
  },
  {
   "cell_type": "code",
   "execution_count": null,
   "metadata": {},
   "outputs": [
    {
     "name": "stdout",
     "output_type": "stream",
     "text": [
      "Bienvenido a la Cálculadora de Conversión : Parsec a Lightyears\n"
     ]
    }
   ],
   "source": [
    "print(\"Bienvenido a la Cálculadora de Conversión : Parsec a Lightyears\")\n",
    "name = input(\"Introduzca su nombre de tripulante: \")\n",
    "print(\"Saludos: \" + name)\n",
    "#Conversión de Parsec a Lightyears\n",
    "print(\"Conversión de Parsec a Lightyears\")\n",
    "#Conversión Fase Cálculo de Parsec a Lightyears\n",
    "print(\"Iniciando Sistema\")\n",
    "parsec = int (input(\"Introduzca las unidades de Parsec: \"))\n",
    "lightyears = 3.26156 * parsec\n",
    "print(str(parsec) + \" Parsec, es o son \" + str(lightyears) + \" Lightyears\")"
   ]
  },
  {
   "cell_type": "code",
   "execution_count": 1,
   "metadata": {},
   "outputs": [
    {
     "name": "stdout",
     "output_type": "stream",
     "text": [
      "Fin de la Operación\n",
      "Accesando a la base de datos de KND\n",
      "Codename: Kids Next Door\n",
      "Code: MOON\n"
     ]
    }
   ],
   "source": [
    "print(\"Fin de la Operación\")\n",
    "name = input(\"Introduzca el código de su nueva: \")\n",
    "print(\"Accesando a la base de datos de KND\")\n",
    "print(\"Codename: Kids Next Door\")\n",
    "print(\"Code: MOON\")"
   ]
  }
 ],
 "metadata": {
  "interpreter": {
   "hash": "a4b57680f947797efd172336bdac56d314a4485b1aff1f63fff2a9a40c1a00cb"
  },
  "kernelspec": {
   "display_name": "Python 3.10.2 64-bit",
   "language": "python",
   "name": "python3"
  },
  "language_info": {
   "codemirror_mode": {
    "name": "ipython",
    "version": 3
   },
   "file_extension": ".py",
   "mimetype": "text/x-python",
   "name": "python",
   "nbconvert_exporter": "python",
   "pygments_lexer": "ipython3",
   "version": "3.10.2"
  },
  "orig_nbformat": 4
 },
 "nbformat": 4,
 "nbformat_minor": 2
}
